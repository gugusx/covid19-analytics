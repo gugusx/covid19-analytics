{
 "cells": [
  {
   "cell_type": "markdown",
   "id": "9a452b1e-7f26-4397-bf3a-927efb920641",
   "metadata": {},
   "source": [
    "#### python-dotenv, used for load .env file"
   ]
  },
  {
   "cell_type": "code",
   "execution_count": null,
   "id": "85b34e39-6577-4cbc-b356-d35c00925086",
   "metadata": {},
   "outputs": [],
   "source": [
    "##!pip install python-dotenv"
   ]
  },
  {
   "cell_type": "code",
   "execution_count": null,
   "id": "10e534f3-a2ef-45c7-a21b-53496782afc5",
   "metadata": {},
   "outputs": [],
   "source": [
    "import requests\n",
    "import json\n",
    "import pandas as pd\n",
    "import os\n",
    "from dotenv import load_dotenv"
   ]
  },
  {
   "cell_type": "markdown",
   "id": "5af858e7-26a1-4d92-8636-e7f781650a15",
   "metadata": {},
   "source": [
    "#### Load environment variable (WEATHERSTACK_API_KEY) from .env file"
   ]
  },
  {
   "cell_type": "code",
   "execution_count": null,
   "id": "21e2c015-736f-4d2a-8194-1a787a80190e",
   "metadata": {},
   "outputs": [],
   "source": [
    "load_dotenv()\n",
    "API_KEY = os.getenv(\"WEATHERSTACK_API_KEY\")"
   ]
  },
  {
   "cell_type": "markdown",
   "id": "930a2d61-fc20-4a62-ae30-3d10a9e626fd",
   "metadata": {},
   "source": [
    "#### Setup Varibles"
   ]
  },
  {
   "cell_type": "code",
   "execution_count": null,
   "id": "a8ff9127-db18-4ffa-96d2-b1b55369044b",
   "metadata": {},
   "outputs": [],
   "source": [
    "## Big 5 Cities in Indonesia\n",
    "cities = [\"Bandung\", \"Jakarta\", \"Surabaya\", \"Makassar\", \"Medan\"]\n",
    "\n",
    "## List periods based on peak of COVID\n",
    "periods = [\n",
    "    (\"2021-01-01\", \"2021-02-28\"),  # The first peak of COVID\n",
    "    (\"2022-01-01\", \"2022-02-28\")   # The second peak of COVID\n",
    "]\n",
    "\n",
    "## List for store the result\n",
    "weather_data = []"
   ]
  },
  {
   "cell_type": "markdown",
   "id": "20941d3c-1581-4922-b0a2-3cb039cba82f",
   "metadata": {},
   "source": [
    "#### Download data"
   ]
  },
  {
   "cell_type": "code",
   "execution_count": null,
   "id": "3e939d4a-ff7d-42fa-a42f-a1517e339c1e",
   "metadata": {},
   "outputs": [],
   "source": [
    "## Loop for each city and period\n",
    "for city in cities:\n",
    "    for start_date, end_date in periods:\n",
    "        url = f\"http://api.weatherstack.com/historical?access_key={API_KEY}&query={city}&historical_date_start={start_date}&historical_date_end={end_date}&hourly=1&units=m\"\n",
    "        \n",
    "        response = requests.get(url)\n",
    "        data = response.json()\n",
    "\n",
    "        #print(data)\n",
    "\n",
    "        if not data.get(\"success\", True):  \n",
    "            print(f\"Error fetching data for {city}: {data['error']}\")\n",
    "            continue\n",
    "\n",
    "        ## Parsing data\n",
    "        for date, details in data[\"historical\"].items():\n",
    "            for hour in details[\"hourly\"]:\n",
    "                weather_data.append([\n",
    "                    city, \n",
    "                    date, \n",
    "                    hour[\"time\"], \n",
    "                    hour[\"temperature\"], \n",
    "                    hour[\"humidity\"],\n",
    "                    hour[\"wind_speed\"], \n",
    "                    hour[\"weather_descriptions\"][0]\n",
    "                ])\n",
    "\n",
    "# Save to DataFrame\n",
    "df = pd.DataFrame(weather_data, columns=[\"city\", \"date\", \"time\", \"temperature\", \"humidity\", \"wind_speed\", \"weather_description\"])\n",
    "df.to_csv(\"/home/gugus/Documents/portfolio-gugus/covid19-analytics/data-sources/weather/weather_peak_covid.csv\", index=False)\n",
    "\n",
    "print(\"Successfully save to weather_peak_covid.csv!\")"
   ]
  }
 ],
 "metadata": {
  "kernelspec": {
   "display_name": "Python 3 (ipykernel)",
   "language": "python",
   "name": "python3"
  },
  "language_info": {
   "codemirror_mode": {
    "name": "ipython",
    "version": 3
   },
   "file_extension": ".py",
   "mimetype": "text/x-python",
   "name": "python",
   "nbconvert_exporter": "python",
   "pygments_lexer": "ipython3",
   "version": "3.12.3"
  }
 },
 "nbformat": 4,
 "nbformat_minor": 5
}
