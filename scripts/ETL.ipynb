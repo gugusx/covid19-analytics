{
 "cells": [
  {
   "cell_type": "markdown",
   "id": "ba21684b-213a-44ef-b481-16a94629e587",
   "metadata": {},
   "source": [
    "#### Libraries"
   ]
  },
  {
   "cell_type": "code",
   "execution_count": null,
   "id": "52bbf3af-7f9a-4b4f-9550-2dab703a6642",
   "metadata": {},
   "outputs": [],
   "source": [
    "#!pip install clickhouse-connect"
   ]
  },
  {
   "cell_type": "code",
   "execution_count": null,
   "id": "5b94e060-52ae-48f4-aa93-d6080ecc3ada",
   "metadata": {},
   "outputs": [],
   "source": [
    "import requests\n",
    "import pandas as pd\n",
    "import clickhouse_connect\n",
    "import logging\n",
    "import os\n",
    "\n",
    "from config import ch_conn_string\n",
    "from dotenv import load_dotenv\n",
    "\n",
    "import warnings\n",
    "warnings.filterwarnings('ignore')\n",
    "\n",
    "logging.basicConfig(level=logging.INFO)"
   ]
  },
  {
   "cell_type": "markdown",
   "id": "5359728f-4cdb-4ee7-b03c-3314f8c68b94",
   "metadata": {},
   "source": [
    "#### Check Connection to ClickHouse"
   ]
  },
  {
   "cell_type": "code",
   "execution_count": null,
   "id": "b0d0b1d0-7a2b-4426-88a4-9693d1e1bbe3",
   "metadata": {},
   "outputs": [],
   "source": [
    "try:\n",
    "    client = clickhouse_connect.get_client(\n",
    "        host=ch_conn_string[\"host\"],\n",
    "        port=ch_conn_string[\"port\"],\n",
    "        username=ch_conn_string[\"username\"],\n",
    "        password=ch_conn_string[\"password\"],\n",
    "        database=ch_conn_string[\"database\"]\n",
    "    )\n",
    "    logging.info(\"Connected to ClickHouse successfully.\")\n",
    "except Exception as e:\n",
    "    logging.error(f\"An error occurred: {str(e)}\", exc_info=True)"
   ]
  },
  {
   "cell_type": "markdown",
   "id": "4f0c9f0f-efa9-4a5e-9d7d-5affefb9601e",
   "metadata": {},
   "source": [
    "### Data Source = Weathersatck API"
   ]
  },
  {
   "cell_type": "markdown",
   "id": "20d1a35c",
   "metadata": {},
   "source": [
    "#### 1. Create Table for Store Weather Data"
   ]
  },
  {
   "cell_type": "code",
   "execution_count": null,
   "id": "9bee4411",
   "metadata": {},
   "outputs": [],
   "source": [
    "print(\"Create Table for Store Weather Data\")\n",
    "\n",
    "table_name = \"historical_weather\"\n",
    "\n",
    "create_table_query = f\"\"\"\n",
    "CREATE TABLE IF NOT EXISTS {table_name} (\n",
    "    country String,\n",
    "    city String,\n",
    "    date Date,\n",
    "    time Int64,\n",
    "    temperature Float64,\n",
    "    humidity Float64,\n",
    "    wind_speed Float64,\n",
    "    weather_description String\n",
    ") ENGINE = MergeTree()\n",
    "ORDER BY (city, date, time);\n",
    "\"\"\"\n",
    "\n",
    "client.command(create_table_query)\n",
    "logging.info(f\"'{table_name}' created successfully.\")"
   ]
  },
  {
   "cell_type": "markdown",
   "id": "7c5f3068",
   "metadata": {},
   "source": [
    "#### 2. Get Historical Weather using API"
   ]
  },
  {
   "cell_type": "code",
   "execution_count": null,
   "id": "0de0efad",
   "metadata": {},
   "outputs": [],
   "source": [
    "print(\"Load API Key\")\n",
    "load_dotenv()\n",
    "API_KEY = os.getenv(\"WEATHERSTACK_API_KEY\")\n",
    "logging.info(\"API valid.\")\n",
    "\n",
    "# Setup Parameters\n",
    "cities = [\"Bandung\", \"Jakarta\", \"Surabaya\", \"Makassar\", \"Medan\"]\n",
    "periods = [\n",
    "    (\"2021-01-01\", \"2021-02-28\"),  # The first peak of COVID\n",
    "    (\"2022-01-01\", \"2022-02-28\")   # The second peak of COVID\n",
    "]"
   ]
  },
  {
   "cell_type": "markdown",
   "id": "2725ef61",
   "metadata": {},
   "source": [
    "#### 3. Fetch Data"
   ]
  },
  {
   "cell_type": "code",
   "execution_count": null,
   "id": "d151a2e6",
   "metadata": {},
   "outputs": [],
   "source": [
    "from datetime import datetime\n",
    "\n",
    "weather_data = []\n",
    "\n",
    "# Truncate table before inserting new data\n",
    "truncate_query = f\"TRUNCATE TABLE {table_name};\"\n",
    "client.command(truncate_query)\n",
    "logging.info(f\"Table {table_name} cleaned successfully.\")\n",
    "\n",
    "# Loop for each city and period\n",
    "for city in cities:\n",
    "    for start_date, end_date in periods:\n",
    "        url = f\"http://api.weatherstack.com/historical?access_key={API_KEY}&query={city}&historical_date_start={start_date}&historical_date_end={end_date}&hourly=1&units=m\"\n",
    "        \n",
    "        response = requests.get(url)\n",
    "        data = response.json()\n",
    "\n",
    "        if not data.get(\"success\", True):  \n",
    "            print(f\"Error fetching data for {city}: {data.get('error', {})}\")\n",
    "            continue\n",
    "\n",
    "        country = data.get(\"location\", {}).get(\"country\", \"Unknown\")\n",
    "        \n",
    "        # Parse Data with Date Conversion\n",
    "        for date_str, details in data[\"historical\"].items():\n",
    "            date_obj = datetime.strptime(date_str, \"%Y-%m-%d\").date()\n",
    "            \n",
    "            for hour in details[\"hourly\"]:\n",
    "                weather_data.append([\n",
    "                    country,\n",
    "                    city, \n",
    "                    date_obj,\n",
    "                    int(hour[\"time\"]), \n",
    "                    hour[\"temperature\"], \n",
    "                    hour[\"humidity\"],\n",
    "                    hour[\"wind_speed\"], \n",
    "                    hour[\"weather_descriptions\"][0]\n",
    "                ])\n",
    "\n",
    "if weather_data:\n",
    "    client.insert(table_name, weather_data, column_names=[\"country\", \"city\", \"date\", \"time\", \"temperature\", \"humidity\", \"wind_speed\", \"weather_description\"])\n",
    "    print(f\"Inserted {len(weather_data)} records into '{table_name}'\")\n",
    "else:\n",
    "    print(\"No data to insert.\")"
   ]
  },
  {
   "cell_type": "markdown",
   "id": "9eee4924-25ad-470a-9319-4394d43d48ad",
   "metadata": {},
   "source": [
    "### Data Source = OWID"
   ]
  },
  {
   "cell_type": "code",
   "execution_count": null,
   "id": "6f245100-2ad8-432e-aa7b-c47f87955c76",
   "metadata": {},
   "outputs": [],
   "source": [
    "# List CSV URLs\n",
    "datasets = {\n",
    "    \"cases_deaths\": \"https://catalog.ourworldindata.org/garden/covid/latest/cases_deaths/cases_deaths.csv\",\n",
    "    \"hospital\": \"https://catalog.ourworldindata.org/garden/covid/latest/hospital/hospital.csv\",\n",
    "    \"vaccination\": \"https://catalog.ourworldindata.org/garden/covid/latest/vaccinations_global/vaccinations_global.csv\",\n",
    "    \"testing\": \"https://catalog.ourworldindata.org/garden/covid/latest/testing/testing.csv\"\n",
    "}\n",
    "\n",
    "# Define ClickHouse data types mapping\n",
    "dtype_mapping = {\n",
    "    \"object\": \"String\",\n",
    "    \"int64\": \"Int64\",\n",
    "    \"float64\": \"Float64\",\n",
    "    \"datetime64\": \"DateTime\"\n",
    "}\n",
    "\n",
    "# Create Tables & Insert Data\n",
    "for table_name, url in datasets.items():\n",
    "    print(f\"Processing {table_name}...\")\n",
    "\n",
    "    # Load CSV (only first 5 rows to get schema)\n",
    "    df = pd.read_csv(url, nrows=5)\n",
    "\n",
    "    # Define columns with proper types\n",
    "    columns = []\n",
    "    for col, dtype in df.dtypes.items():\n",
    "        # Default to String if unknown\n",
    "        clickhouse_type = dtype_mapping.get(str(dtype), \"String\")  \n",
    "        columns.append(f\"{col} {clickhouse_type}\")\n",
    "\n",
    "    # Create Table Query\n",
    "    create_table_query = f\"\"\"\n",
    "    CREATE TABLE IF NOT EXISTS {table_name} (\n",
    "        {\", \".join(columns)}\n",
    "    ) ENGINE = MergeTree()\n",
    "    ORDER BY tuple();\n",
    "    \"\"\"\n",
    "    client.command(create_table_query)\n",
    "    print(f\"Table '{table_name}' created successfully.\")\n",
    "\n",
    "    # Truncate table before inserting new data\n",
    "    truncate_query = f\"\"\"TRUNCATE TABLE {table_name};\"\"\"\n",
    "    client.command(truncate_query)\n",
    "    logging.info(f\"Table {table_name} cleaned successfully.\")\n",
    "\n",
    "    # Insert Data\n",
    "    print(f\"Inserting data into {table_name}...\")\n",
    "    df = pd.read_csv(url)  # Load full CSV\n",
    "\n",
    "    # Replace NaN/NULL values:\n",
    "    df = df.fillna({\n",
    "        # Replace NaN in numbers with 0, in text with \"\"\n",
    "        col: 0 if df[col].dtype in ['int64', 'float64'] else \"\"  \n",
    "        for col in df.columns\n",
    "    })\n",
    "\n",
    "    # Insert into ClickHouse\n",
    "    client.insert(table_name, df.to_records(index=False), column_names=list(df.columns))\n",
    "    print(f\"Inserted {len(df)} rows into '{table_name}'.\")"
   ]
  },
  {
   "cell_type": "markdown",
   "id": "908adbf3-7232-482d-8232-5b2b1a9d93ac",
   "metadata": {},
   "source": [
    "#### (Optional) Load Data Result"
   ]
  },
  {
   "cell_type": "code",
   "execution_count": null,
   "id": "641a8dde-8d2c-4d44-89e5-718f6692848b",
   "metadata": {},
   "outputs": [],
   "source": [
    "import configparser\n",
    "\n",
    "# Read INI file\n",
    "config = configparser.ConfigParser()\n",
    "config.read(\"query_analytics.ini\")\n",
    "\n",
    "# Extract Materialized View details\n",
    "section = \"materialized_view_covide_weather\"\n",
    "view_name = config[section][\"name\"]\n",
    "engine = config[section][\"engine\"]\n",
    "order_by = config[section][\"order_by\"]\n",
    "query = config[section][\"query\"]\n",
    "\n",
    "# Drop existing view if needed\n",
    "client.command(f\"DROP VIEW IF EXISTS {view_name}\")\n",
    "\n",
    "# Execute the query from INI\n",
    "client.command(query)\n",
    "\n",
    "print(f\"Materialized View '{view_name}' created successfully!\")"
   ]
  }
 ],
 "metadata": {
  "kernelspec": {
   "display_name": "Python 3 (ipykernel)",
   "language": "python",
   "name": "python3"
  },
  "language_info": {
   "codemirror_mode": {
    "name": "ipython",
    "version": 3
   },
   "file_extension": ".py",
   "mimetype": "text/x-python",
   "name": "python",
   "nbconvert_exporter": "python",
   "pygments_lexer": "ipython3",
   "version": "3.12.3"
  }
 },
 "nbformat": 4,
 "nbformat_minor": 5
}
